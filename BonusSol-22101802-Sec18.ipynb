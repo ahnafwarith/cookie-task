{
 "cells": [
  {
   "cell_type": "code",
   "execution_count": 33,
   "id": "d2953143",
   "metadata": {},
   "outputs": [
    {
     "name": "stdout",
     "output_type": "stream",
     "text": [
      "{'basic_info': ('ZahinAhmed_____', 18301100, 'CSE'), 'courses': ['CSE101', 'MAT110', 'ECO101'], 'grades': [4.0, 3.7, 3.3]}\n",
      "{'basic_info': ('ZahinAhmed', 1711020042, 'CSE'), 'courses': ['CSE101', 'MAT110', 'ECO101'], 'grades': [4.0, 3.7, 3.3]}\n"
     ]
    }
   ],
   "source": [
    "def makeStudent(info, details, details0 = False):\n",
    "    def f1(n):\n",
    "        return n\n",
    "    if \"-\" in info:\n",
    "        my_info_list = info.split(\"-\")\n",
    "        name = my_info_list[0]\n",
    "        ID = int(my_info_list[1])\n",
    "        dept = my_info_list[2]\n",
    "    else:\n",
    "        name = info[:15]\n",
    "        ID = int(info[15:23])\n",
    "        dept = info[23:]\n",
    "    basic_information = (name, ID, dept)\n",
    "    if details0 == False:\n",
    "        courses = list(details.keys())\n",
    "        grades = list(details.values())\n",
    "    elif details and details0:\n",
    "        courses = list(map(f1,details))\n",
    "        grades = list(map(f1,details0))\n",
    "    else:\n",
    "        courses = []\n",
    "        grades = []\n",
    "    dict1 = {'basic_info': basic_information, 'courses':\n",
    "             courses, 'grades': grades}\n",
    "    return dict1\n",
    "print(makeStudent('ZahinAhmed_____18301100CSE',{'CSE101': 4.0, 'MAT110':3.7, 'ECO101': 3.3}))\n",
    "print(makeStudent('ZahinAhmed-1711020042-CSE',['CSE101', 'MAT110','ECO101'],[4.0, 3.7, 3.3]))"
   ]
  }
 ],
 "metadata": {
  "kernelspec": {
   "display_name": "Python 3 (ipykernel)",
   "language": "python",
   "name": "python3"
  },
  "language_info": {
   "codemirror_mode": {
    "name": "ipython",
    "version": 3
   },
   "file_extension": ".py",
   "mimetype": "text/x-python",
   "name": "python",
   "nbconvert_exporter": "python",
   "pygments_lexer": "ipython3",
   "version": "3.9.7"
  }
 },
 "nbformat": 4,
 "nbformat_minor": 5
}
